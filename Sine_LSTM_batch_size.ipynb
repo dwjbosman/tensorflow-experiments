{
 "cells": [
  {
   "cell_type": "markdown",
   "metadata": {},
   "source": [
    "---\n",
    "Title: LSTM neural network for sequence learning\n",
    "Date: 2017-11-19 22:00\n",
    "Tags: LSTM, artificial intelligence, jupyter, tensorflow\n",
    "Slug: My-first-LSTM\n",
    "Authors: Dinne Bosman\n",
    "Lang:en\n",
    "Summary: My first attempt at a LSTM for sequence prediction\n",
    "---\n",
    "\n",
    "In 1996, during my last year in High School, I borrowed a book of a friend about neural networks. It explained how a two layer perceptron network could learn the XOR function. Back then I tried implementing the formulas and was able to do the feed-forward calculations. The training algorithm however still eluded me. Being able to perform forward calculations was already very exciting. I created a windows 95 screen save which would fill the screen with the output of a randomized neural network. The output images we're very interesting. Especially when replacing the activation functions of the network by exotic ones such as sin(x), abs(x) etc. (Although I lost the source code, you can still download it [here](http://www.free-downloads-center.com/download/neural-screen-saver-v1-0-11252.html))\n",
    "\n",
    "At the time it seemed that Neural networks were just another statistical method to interpolate data. Furthermore limited training data and the problem of vanishing gradients limited their usefulness. Fast forward to 2017. Massive amounts of training data and computing power are available. A number of relatively small improvements in the basic neural network algorithms have made it possible to train networks consisting of many more layers. These so-called deep neural networks have fueled progress and interest in Artificial Intelligence development.\n",
    "\n",
    "One particular innovation that caught my attention is the LSTM neural network architecture. This architecture solves the issue of vanishing gradients for Recurrent Neural Networks (RNN). LSTM networks are especially suited to perform analysis of sequences and time series. Some interesting links:\n",
    "\n",
    "  * [article about text generation kernel code](http://karpathy.github.io/2015/05/21/rnn-effectiveness/)\n",
    "  * [fake news generator](https://larseidnes.com/2015/10/13/auto-generating-clickbait-with-recurrent-neural-networks/)\n",
    "  * [LSTM architecture](http://colah.github.io/posts/2015-08-Understanding-LSTMs/)\n",
    "  * [LSTM explanation](https://arxiv.org/pdf/1506.00019.pdf)\n",
    "  * [Modeling attention](https://distill.pub/2016/augmented-rnns/)\n",
    "  * [Convolutional network for speech synthesis](https://deepmind.com/blog/wavenet-generative-model-raw-audio/)\n",
    "\n",
    "In this first test I wanted to experience implementing a sine wave predictor. using Tensor Flow. It's a toy example. Due to the periodic nature of the sine wave the train, dev, and test set overlap. This limits the possibilities to check if the network can generailize.  "
   ]
  },
  {
   "cell_type": "code",
   "execution_count": 1,
   "metadata": {},
   "outputs": [
    {
     "data": {
      "text/html": [
       "<script>requirejs.config({paths: { 'plotly': ['https://cdn.plot.ly/plotly-latest.min']},});if(!window.Plotly) {{require(['plotly'],function(plotly) {window.Plotly=plotly;});}}</script>"
      ],
      "text/vnd.plotly.v1+html": [
       "<script>requirejs.config({paths: { 'plotly': ['https://cdn.plot.ly/plotly-latest.min']},});if(!window.Plotly) {{require(['plotly'],function(plotly) {window.Plotly=plotly;});}}</script>"
      ]
     },
     "metadata": {},
     "output_type": "display_data"
    }
   ],
   "source": [
    "import plotly\n",
    "from plotly.graph_objs import Scatter, Layout\n",
    "import numpy as np\n",
    "import tensorflow as tf\n",
    "import sys\n",
    "plotly.offline.init_notebook_mode(connected=True)\n",
    "import IPython.display"
   ]
  },
  {
   "cell_type": "markdown",
   "metadata": {},
   "source": [
    "## Training data\n",
    "The following cell generates the training data. I decided to add some noise to the sine wave which forces some regularization.     "
   ]
  },
  {
   "cell_type": "code",
   "execution_count": 2,
   "metadata": {},
   "outputs": [],
   "source": [
    "sample_length = 50001\n",
    "time_per_sample = 0.01\n",
    "signal_time = np.linspace(num=sample_length,start = 0, stop = sample_length * time_per_sample )\n",
    "signal_amp = np.sin(signal_time*2*np.pi) + np.random.normal(size=sample_length)*0.02\n",
    "    #np.sin(2+signal_time*1.7*np.pi)*0.5 + \\\n",
    "    #np.sin(1+signal_time*2.2*np.pi) + \\\n",
    "    "
   ]
  },
  {
   "cell_type": "code",
   "execution_count": 3,
   "metadata": {
    "scrolled": false
   },
   "outputs": [
    {
     "data": {
      "application/vnd.plotly.v1+json": {
       "data": [
        {
         "type": "scatter",
         "x": [
          0,
          0.010000199999999999,
          0.020000399999999998,
          0.030000599999999995,
          0.040000799999999996,
          0.050001,
          0.06000119999999999,
          0.07000139999999999,
          0.08000159999999999,
          0.09000179999999999,
          0.100002,
          0.1100022,
          0.12000239999999998,
          0.1300026,
          0.14000279999999998,
          0.150003,
          0.16000319999999998,
          0.17000339999999997,
          0.18000359999999999,
          0.19000379999999997,
          0.200004,
          0.21000419999999997,
          0.2200044,
          0.23000459999999998,
          0.24000479999999996,
          0.250005,
          0.2600052,
          0.27000539999999995,
          0.28000559999999997,
          0.2900058,
          0.300006,
          0.31000619999999995,
          0.32000639999999997,
          0.3300066,
          0.34000679999999994,
          0.35000699999999996,
          0.36000719999999997,
          0.3700074,
          0.38000759999999995,
          0.39000779999999996,
          0.400008,
          0.41000819999999993,
          0.42000839999999995,
          0.43000859999999996,
          0.4400088,
          0.45000899999999994,
          0.46000919999999995,
          0.47000939999999997,
          0.4800095999999999,
          0.49000979999999994,
          0.50001,
          0.5100102,
          0.5200104,
          0.5300106,
          0.5400107999999999,
          0.5500109999999999,
          0.5600111999999999,
          0.5700114,
          0.5800116,
          0.5900118,
          0.600012,
          0.6100121999999999,
          0.6200123999999999,
          0.6300125999999999,
          0.6400127999999999,
          0.650013,
          0.6600132,
          0.6700134,
          0.6800135999999999,
          0.6900137999999999,
          0.7000139999999999,
          0.7100141999999999,
          0.7200143999999999,
          0.7300146,
          0.7400148,
          0.7500149999999999,
          0.7600151999999999,
          0.7700153999999999,
          0.7800155999999999,
          0.7900157999999999,
          0.800016,
          0.8100162,
          0.8200163999999999,
          0.8300165999999999,
          0.8400167999999999,
          0.8500169999999999,
          0.8600171999999999,
          0.8700173999999999,
          0.8800176,
          0.8900177999999999,
          0.9000179999999999,
          0.9100181999999999,
          0.9200183999999999,
          0.9300185999999999,
          0.9400187999999999,
          0.950019,
          0.9600191999999999,
          0.9700193999999999,
          0.9800195999999999,
          0.9900197999999999
         ],
         "y": [
          -0.009999358952767035,
          0.0636596725936513,
          0.09396539891340987,
          0.18736083188739677,
          0.24554522107360244,
          0.30474662791998464,
          0.3540644715650535,
          0.427310695217905,
          0.5082610045992348,
          0.528743319714693,
          0.610873715328187,
          0.6595808302414805,
          0.6714801770744819,
          0.7161724630504367,
          0.8017361218478947,
          0.8227584059757931,
          0.8339431865355841,
          0.8589156197859245,
          0.9032790012741199,
          0.9277440963860971,
          0.944348827684898,
          0.9550259159741353,
          0.9939331935171848,
          0.9953889438631083,
          1.031895777398816,
          0.991926769744457,
          1.008018984611331,
          0.9898874568317324,
          0.9660036288267146,
          0.9778216806047674,
          0.9427574719479263,
          0.9160079988143766,
          0.903887727996592,
          0.9011663035689388,
          0.8367907573153219,
          0.8260939809053769,
          0.7683508266691262,
          0.7234202492635545,
          0.7121569782970198,
          0.6213383920442218,
          0.5786361839359868,
          0.5380777310192311,
          0.46138829067940923,
          0.4441318595463302,
          0.34964272800620694,
          0.3233662082126278,
          0.24534658923290942,
          0.18524150173515894,
          0.12375363227000283,
          0.04747565849617937,
          -0.0037387080934477928,
          -0.051743377712968094,
          -0.15214920425224088,
          -0.19449442529116476,
          -0.26660097990763254,
          -0.32123644885610925,
          -0.38842565077399277,
          -0.441144767589916,
          -0.48607544550013165,
          -0.524011507610602,
          -0.5891608717435157,
          -0.6453265897593556,
          -0.6902171009691433,
          -0.7271350896313418,
          -0.7695574187711549,
          -0.8019483627796674,
          -0.8705328832225805,
          -0.8882826334487386,
          -0.941180390156566,
          -0.9078491448280709,
          -0.9832570314642423,
          -0.942594348092753,
          -0.9894904989827801,
          -1.033150433359927,
          -0.9886850624679566,
          -1.0280845624475607,
          -1.0089557387836479,
          -0.9901244244917171,
          -0.9947835829309849,
          -0.9469085583633676,
          -0.928849321496094,
          -0.9595811107489216,
          -0.899135580368624,
          -0.904911369504552,
          -0.8489143109698182,
          -0.7904224335162588,
          -0.7793467872833741,
          -0.7288845420182568,
          -0.6813326718442346,
          -0.6342428891149459,
          -0.5838042233620713,
          -0.5394518302446045,
          -0.49395160308410146,
          -0.43786637091879443,
          -0.3736342591485493,
          -0.3050754102189696,
          -0.23006119896148175,
          -0.15796119062894998,
          -0.13899400784200322,
          -0.07349763188343796
         ]
        }
       ],
       "layout": {
        "title": ""
       }
      },
      "text/html": [
       "<div id=\"66a0fd2d-53a6-4c13-840c-4ab505be77c0\" style=\"height: 525px; width: 100%;\" class=\"plotly-graph-div\"></div><script type=\"text/javascript\">require([\"plotly\"], function(Plotly) { window.PLOTLYENV=window.PLOTLYENV || {};window.PLOTLYENV.BASE_URL=\"https://plot.ly\";Plotly.newPlot(\"66a0fd2d-53a6-4c13-840c-4ab505be77c0\", [{\"x\": [0.0, 0.010000199999999999, 0.020000399999999998, 0.030000599999999995, 0.040000799999999996, 0.050001, 0.06000119999999999, 0.07000139999999999, 0.08000159999999999, 0.09000179999999999, 0.100002, 0.1100022, 0.12000239999999998, 0.1300026, 0.14000279999999998, 0.150003, 0.16000319999999998, 0.17000339999999997, 0.18000359999999999, 0.19000379999999997, 0.200004, 0.21000419999999997, 0.2200044, 0.23000459999999998, 0.24000479999999996, 0.250005, 0.2600052, 0.27000539999999995, 0.28000559999999997, 0.2900058, 0.300006, 0.31000619999999995, 0.32000639999999997, 0.3300066, 0.34000679999999994, 0.35000699999999996, 0.36000719999999997, 0.3700074, 0.38000759999999995, 0.39000779999999996, 0.400008, 0.41000819999999993, 0.42000839999999995, 0.43000859999999996, 0.4400088, 0.45000899999999994, 0.46000919999999995, 0.47000939999999997, 0.4800095999999999, 0.49000979999999994, 0.50001, 0.5100102, 0.5200104, 0.5300106, 0.5400107999999999, 0.5500109999999999, 0.5600111999999999, 0.5700114, 0.5800116, 0.5900118, 0.600012, 0.6100121999999999, 0.6200123999999999, 0.6300125999999999, 0.6400127999999999, 0.650013, 0.6600132, 0.6700134, 0.6800135999999999, 0.6900137999999999, 0.7000139999999999, 0.7100141999999999, 0.7200143999999999, 0.7300146, 0.7400148, 0.7500149999999999, 0.7600151999999999, 0.7700153999999999, 0.7800155999999999, 0.7900157999999999, 0.800016, 0.8100162, 0.8200163999999999, 0.8300165999999999, 0.8400167999999999, 0.8500169999999999, 0.8600171999999999, 0.8700173999999999, 0.8800176, 0.8900177999999999, 0.9000179999999999, 0.9100181999999999, 0.9200183999999999, 0.9300185999999999, 0.9400187999999999, 0.950019, 0.9600191999999999, 0.9700193999999999, 0.9800195999999999, 0.9900197999999999], \"type\": \"scatter\", \"y\": [-0.009999358952767035, 0.0636596725936513, 0.09396539891340987, 0.18736083188739677, 0.24554522107360244, 0.30474662791998464, 0.3540644715650535, 0.427310695217905, 0.5082610045992348, 0.528743319714693, 0.610873715328187, 0.6595808302414805, 0.6714801770744819, 0.7161724630504367, 0.8017361218478947, 0.8227584059757931, 0.8339431865355841, 0.8589156197859245, 0.9032790012741199, 0.9277440963860971, 0.944348827684898, 0.9550259159741353, 0.9939331935171848, 0.9953889438631083, 1.031895777398816, 0.991926769744457, 1.008018984611331, 0.9898874568317324, 0.9660036288267146, 0.9778216806047674, 0.9427574719479263, 0.9160079988143766, 0.903887727996592, 0.9011663035689388, 0.8367907573153219, 0.8260939809053769, 0.7683508266691262, 0.7234202492635545, 0.7121569782970198, 0.6213383920442218, 0.5786361839359868, 0.5380777310192311, 0.46138829067940923, 0.4441318595463302, 0.34964272800620694, 0.3233662082126278, 0.24534658923290942, 0.18524150173515894, 0.12375363227000283, 0.04747565849617937, -0.0037387080934477928, -0.051743377712968094, -0.15214920425224088, -0.19449442529116476, -0.26660097990763254, -0.32123644885610925, -0.38842565077399277, -0.441144767589916, -0.48607544550013165, -0.524011507610602, -0.5891608717435157, -0.6453265897593556, -0.6902171009691433, -0.7271350896313418, -0.7695574187711549, -0.8019483627796674, -0.8705328832225805, -0.8882826334487386, -0.941180390156566, -0.9078491448280709, -0.9832570314642423, -0.942594348092753, -0.9894904989827801, -1.033150433359927, -0.9886850624679566, -1.0280845624475607, -1.0089557387836479, -0.9901244244917171, -0.9947835829309849, -0.9469085583633676, -0.928849321496094, -0.9595811107489216, -0.899135580368624, -0.904911369504552, -0.8489143109698182, -0.7904224335162588, -0.7793467872833741, -0.7288845420182568, -0.6813326718442346, -0.6342428891149459, -0.5838042233620713, -0.5394518302446045, -0.49395160308410146, -0.43786637091879443, -0.3736342591485493, -0.3050754102189696, -0.23006119896148175, -0.15796119062894998, -0.13899400784200322, -0.07349763188343796]}], {\"title\": \"\"}, {\"showLink\": true, \"linkText\": \"Export to plot.ly\"})});</script>"
      ],
      "text/vnd.plotly.v1+html": [
       "<div id=\"66a0fd2d-53a6-4c13-840c-4ab505be77c0\" style=\"height: 525px; width: 100%;\" class=\"plotly-graph-div\"></div><script type=\"text/javascript\">require([\"plotly\"], function(Plotly) { window.PLOTLYENV=window.PLOTLYENV || {};window.PLOTLYENV.BASE_URL=\"https://plot.ly\";Plotly.newPlot(\"66a0fd2d-53a6-4c13-840c-4ab505be77c0\", [{\"x\": [0.0, 0.010000199999999999, 0.020000399999999998, 0.030000599999999995, 0.040000799999999996, 0.050001, 0.06000119999999999, 0.07000139999999999, 0.08000159999999999, 0.09000179999999999, 0.100002, 0.1100022, 0.12000239999999998, 0.1300026, 0.14000279999999998, 0.150003, 0.16000319999999998, 0.17000339999999997, 0.18000359999999999, 0.19000379999999997, 0.200004, 0.21000419999999997, 0.2200044, 0.23000459999999998, 0.24000479999999996, 0.250005, 0.2600052, 0.27000539999999995, 0.28000559999999997, 0.2900058, 0.300006, 0.31000619999999995, 0.32000639999999997, 0.3300066, 0.34000679999999994, 0.35000699999999996, 0.36000719999999997, 0.3700074, 0.38000759999999995, 0.39000779999999996, 0.400008, 0.41000819999999993, 0.42000839999999995, 0.43000859999999996, 0.4400088, 0.45000899999999994, 0.46000919999999995, 0.47000939999999997, 0.4800095999999999, 0.49000979999999994, 0.50001, 0.5100102, 0.5200104, 0.5300106, 0.5400107999999999, 0.5500109999999999, 0.5600111999999999, 0.5700114, 0.5800116, 0.5900118, 0.600012, 0.6100121999999999, 0.6200123999999999, 0.6300125999999999, 0.6400127999999999, 0.650013, 0.6600132, 0.6700134, 0.6800135999999999, 0.6900137999999999, 0.7000139999999999, 0.7100141999999999, 0.7200143999999999, 0.7300146, 0.7400148, 0.7500149999999999, 0.7600151999999999, 0.7700153999999999, 0.7800155999999999, 0.7900157999999999, 0.800016, 0.8100162, 0.8200163999999999, 0.8300165999999999, 0.8400167999999999, 0.8500169999999999, 0.8600171999999999, 0.8700173999999999, 0.8800176, 0.8900177999999999, 0.9000179999999999, 0.9100181999999999, 0.9200183999999999, 0.9300185999999999, 0.9400187999999999, 0.950019, 0.9600191999999999, 0.9700193999999999, 0.9800195999999999, 0.9900197999999999], \"type\": \"scatter\", \"y\": [-0.009999358952767035, 0.0636596725936513, 0.09396539891340987, 0.18736083188739677, 0.24554522107360244, 0.30474662791998464, 0.3540644715650535, 0.427310695217905, 0.5082610045992348, 0.528743319714693, 0.610873715328187, 0.6595808302414805, 0.6714801770744819, 0.7161724630504367, 0.8017361218478947, 0.8227584059757931, 0.8339431865355841, 0.8589156197859245, 0.9032790012741199, 0.9277440963860971, 0.944348827684898, 0.9550259159741353, 0.9939331935171848, 0.9953889438631083, 1.031895777398816, 0.991926769744457, 1.008018984611331, 0.9898874568317324, 0.9660036288267146, 0.9778216806047674, 0.9427574719479263, 0.9160079988143766, 0.903887727996592, 0.9011663035689388, 0.8367907573153219, 0.8260939809053769, 0.7683508266691262, 0.7234202492635545, 0.7121569782970198, 0.6213383920442218, 0.5786361839359868, 0.5380777310192311, 0.46138829067940923, 0.4441318595463302, 0.34964272800620694, 0.3233662082126278, 0.24534658923290942, 0.18524150173515894, 0.12375363227000283, 0.04747565849617937, -0.0037387080934477928, -0.051743377712968094, -0.15214920425224088, -0.19449442529116476, -0.26660097990763254, -0.32123644885610925, -0.38842565077399277, -0.441144767589916, -0.48607544550013165, -0.524011507610602, -0.5891608717435157, -0.6453265897593556, -0.6902171009691433, -0.7271350896313418, -0.7695574187711549, -0.8019483627796674, -0.8705328832225805, -0.8882826334487386, -0.941180390156566, -0.9078491448280709, -0.9832570314642423, -0.942594348092753, -0.9894904989827801, -1.033150433359927, -0.9886850624679566, -1.0280845624475607, -1.0089557387836479, -0.9901244244917171, -0.9947835829309849, -0.9469085583633676, -0.928849321496094, -0.9595811107489216, -0.899135580368624, -0.904911369504552, -0.8489143109698182, -0.7904224335162588, -0.7793467872833741, -0.7288845420182568, -0.6813326718442346, -0.6342428891149459, -0.5838042233620713, -0.5394518302446045, -0.49395160308410146, -0.43786637091879443, -0.3736342591485493, -0.3050754102189696, -0.23006119896148175, -0.15796119062894998, -0.13899400784200322, -0.07349763188343796]}], {\"title\": \"\"}, {\"showLink\": true, \"linkText\": \"Export to plot.ly\"})});</script>"
      ]
     },
     "metadata": {},
     "output_type": "display_data"
    }
   ],
   "source": [
    "#plot part of the signal, just to see what's in there\n",
    "s_i = 0\n",
    "e_i = s_i + 100\n",
    "x = plotly.offline.iplot({\n",
    "    \"data\": [Scatter(x=signal_time[s_i:e_i],y=signal_amp[s_i:e_i])],\n",
    "    \"layout\": Layout(title=\"\")\n",
    "    \n",
    "})"
   ]
  },
  {
   "cell_type": "code",
   "execution_count": 4,
   "metadata": {},
   "outputs": [],
   "source": [
    "#Setup general  hyper parameters\n",
    "\n",
    "#Unroll the RNN to sequence_length timesteps\n",
    "sequence_length = 100\n",
    "#The number timesteps to predict\n",
    "prediction_length = 1\n",
    "#The number of features per input time step\n",
    "input_feature_count = 1\n",
    "#The number of featuers per prediction\n",
    "output_feature_count = 1\n",
    "\n",
    "#the number of LSTM nodes per layer of the network\n",
    "hidden_count_per_layer = [16,16]\n",
    "\n",
    "tf.reset_default_graph()\n",
    "\n",
    "#inputs is a vector of (batch_size, sequence_length, feature_count)\n",
    "inputs = tf.placeholder(tf.float32, \n",
    "                        [None, sequence_length, input_feature_count], \n",
    "                        name = 'inputs')\n",
    "#targets will be an example to train. \n",
    "#It will be filled with the value of the next time step. \n",
    "#Size (batch_size, feature count)\n",
    "targets = tf.placeholder(tf.float32, \n",
    "                         [None, output_feature_count], \n",
    "                         name = 'targets')\n",
    "#Apply drop out regularization with a a probability of keep_prob \n",
    "#to keep a connection \n",
    "keep_prob = tf.placeholder(tf.float32, name = 'keep')\n",
    "#Used a learning rate for AdamOptimzer\n",
    "learning_rate = tf.placeholder(tf.float32, name = 'learning_rate')\n"
   ]
  },
  {
   "cell_type": "markdown",
   "metadata": {},
   "source": [
    "## Defining the LSTM multi layer network\n",
    "\n",
    "Define a network by creating a number of layers. In most examples I found all layers used equal node counts. In this example you can specify the number of neurons per layer through the 'hidden_count_per_layer' array."
   ]
  },
  {
   "cell_type": "code",
   "execution_count": 5,
   "metadata": {},
   "outputs": [],
   "source": [
    "layers = []\n",
    "\n",
    "\n",
    "for hidden_count in hidden_count_per_layer:\n",
    "    layer =  tf.nn.rnn_cell.LSTMCell(hidden_count, state_is_tuple = True)\n",
    "    layer_with_dropout = tf.nn.rnn_cell.DropoutWrapper(layer,\n",
    "                                          input_keep_prob=keep_prob,\n",
    "                                          output_keep_prob=1.0)\n",
    "    layers.append(layer)\n",
    "hidden_network = tf.nn.rnn_cell.MultiRNNCell(layers, state_is_tuple = True)   \n"
   ]
  },
  {
   "cell_type": "markdown",
   "metadata": {},
   "source": [
    "## Packing/Unpacking the LSTM network state\n",
    "\n",
    "'state_is_tuple = True' means that the LSTM State data structure will be a Tuple. Although inconvenient to work with this seems to be the future default. I will introduce some functions which help to work more easily with these state tuples. \n",
    "\n",
    "In order to use the LSTM network to generate a predicted sequence of arbitrary length you need to store the state of the network. The output state after predicting a sample should be fed back in to the network when predicting the next sample.\n",
    "\n",
    "The LSTM implementation in Tensor flow uses a LSTMStateTuple(c,h) data structure. The idea is to pack this LSTMStateTuple(c,h) into a 2D vector of size (batch_size, states). \n",
    "\n",
    "There were some challenges implementing these packing/unpacking functions. Especially you want to avoid them beeing dependent on a specific batch_size. During building of the computation graph the batch_size should be None.\n",
    "\n",
    "There is a pointer on how to use dynamic batch_sizes and packing/unpacking states [here](https://stackoverflow.com/questions/40438107/tensorflow-changing-batch-size-for-rnn-during-text-generation). I made some changes to clarify these functions. "
   ]
  },
  {
   "cell_type": "code",
   "execution_count": 6,
   "metadata": {},
   "outputs": [],
   "source": [
    "def get_network_state_size(network):\n",
    "    \"\"\"Returns the number of states variables in the network\"\"\"\n",
    "    states = 0\n",
    "    for layer_size in hidden_network.state_size:\n",
    "        states += layer_size[0] # LSTMState tuple element c\n",
    "        states += layer_size[1] # LSTMState tuple element h\n",
    "    return states\n"
   ]
  },
  {
   "cell_type": "code",
   "execution_count": 7,
   "metadata": {},
   "outputs": [],
   "source": [
    "def pack_state_tuple(state_tuple, indent=0):\n",
    "    \"\"\"Returns a (batch_size,network_state_size) matrix of the states in the network\n",
    "        state_tupel = the states obtained from  _ , state = tf.nn.dynamic_rnn(...)\n",
    "    \"\"\"\n",
    "    if isinstance(state_tuple, tf.Tensor) or not hasattr(state_tuple, '__iter__'):\n",
    "        #The LSTMSTateTuple contains 2 Tensors\n",
    "        return state_tuple\n",
    "    else:\n",
    "        l = []\n",
    "        #an unpacked LSTM network is tuple of layer size, each element of the tuple is an LSTMStateTuple\n",
    "        #state_tupel is either the tuple of LSTMStateTuples or it is a LSTMSTateTuple (via recursive call)\n",
    "        for item in state_tuple:\n",
    "            # item is either an LSTMStateTuple (top level call)\n",
    "            # or it is an element of the LSTMStateTuple (first recursive call)\n",
    "            i = pack_state_tuple(item, indent+2)\n",
    "            l.append(i)\n",
    "        \n",
    "        #convert the list of [Tensor(bsz,a), Tensor(bsz,b), ...] Into one long Tensor (bsz, a-b-c-...)\n",
    "        return tf.concat(l,1)\n",
    "    "
   ]
  },
  {
   "cell_type": "code",
   "execution_count": 8,
   "metadata": {},
   "outputs": [],
   "source": [
    "def unpack_state_tuple(state_tensor, sizes):\n",
    "    \"\"\"The inverse of pack, given a packed_states vector of (batch_size,x) return the LSTMStateTuple \n",
    "    datastructure that can be used as initial state for tf.nn.dynamic_rnn(...) \n",
    "        sizes is the network state size list (cell.state_size)\n",
    "    \"\"\"\n",
    "\n",
    "    def _unpack_state_tuple( sizes_, offset_, indent):\n",
    "        if isinstance(sizes_, tf.Tensor) or not hasattr(sizes_, '__iter__'): \n",
    "            #get a small part (batch size, c or h size of LSTMStateTuple) of the packed state vector of shape (batch size, network states)\n",
    "            return tf.reshape(state_tensor[:, offset_ : (offset_ + sizes_) ], (-1, sizes_)), offset_ + sizes_\n",
    "        else:\n",
    "            result = []\n",
    "            #Top level: sizes is a tuple of size network layers, each element of the tuple is an LSTMStateTuple(c size, h size)\n",
    "            #Recursive call: sizes_ is a LSTMStateTuple\n",
    "            for size in sizes_:\n",
    "                #size is an LSTMStateTuple (toplevel)\n",
    "                #or size is c size or h size (recursive call)\n",
    "                s, offset_ = _unpack_state_tuple( size, offset_, indent+2)\n",
    "                result.append(s)\n",
    "            if isinstance(sizes_, tf.nn.rnn_cell.LSTMStateTuple):\n",
    "                #end of recursive call\n",
    "                #Build a LSTMStateTuple using the c size and h size elements in the result list\n",
    "                return tf.nn.rnn_cell.LSTMStateTuple(*result), offset_\n",
    "            else:\n",
    "                # end of toplevel call\n",
    "                # create a tuple of size network layers. Result is a list of LSTMStateTuple\n",
    "                return tuple(result), offset_\n",
    "    return _unpack_state_tuple( sizes, 0,0)[0]"
   ]
  },
  {
   "cell_type": "markdown",
   "metadata": {
    "scrolled": true
   },
   "source": [
    "### Testing the packing/unpacking functions\n",
    "Next I wrote a check to see if the pack and unpack functions are indeed each others inverse. The vectors should be packed/unpacked in the correct order. The idea is to create 'packed' vector containing the values 0..n. Then unpack and repack. The output value should be equal to the original vector. "
   ]
  },
  {
   "cell_type": "code",
   "execution_count": 9,
   "metadata": {
    "scrolled": false
   },
   "outputs": [
    {
     "name": "stdout",
     "output_type": "stream",
     "text": [
      "diff 0.0\n"
     ]
    }
   ],
   "source": [
    "#Test pack and unpack\n",
    "\n",
    "#create a placeholder in which we can feeisd packed states (vector of (batch_size, states) as initial_state\n",
    "state_packed_in = tf.placeholder(\n",
    "    tf.float32, \n",
    "    (None,get_network_state_size(hidden_network)), \n",
    "    name=\"state_packed_1\")\n",
    "\n",
    "\n",
    "#Unpack the packed states\n",
    "state_unpacked_out = unpack_state_tuple(state_packed_in,hidden_network.state_size)\n",
    "#Repack the unpacked states\n",
    "state_packed_out = pack_state_tuple(state_unpacked_out)\n",
    "\n",
    "\n",
    "inputs_batch_size = 40\n",
    "a_batch_of_inputs = np.zeros((inputs_batch_size, sequence_length, input_feature_count))\n",
    "\n",
    "#create an initial state vector and fill it with test data\n",
    "an_initial_state = np.zeros((inputs_batch_size*get_network_state_size(hidden_network),1))\n",
    "an_initial_state[:,0] = np.linspace(start=0,stop=an_initial_state.shape[0]-1,num=an_initial_state.shape[0])\n",
    "#reshape it as an packed state \n",
    "an_initial_state_packed = np.reshape(an_initial_state, (inputs_batch_size,get_network_state_size(hidden_network)))\n",
    "\n",
    "\n",
    "init=tf.global_variables_initializer()\n",
    "with tf.Session() as sess:\n",
    "    sess.run(init)\n",
    "    up,p = sess.run([state_unpacked_out, state_packed_out],  feed_dict={state_packed_in: an_initial_state_packed})\n",
    "    # compare the original packed states with the ones the were unpacked and then repacked\n",
    "    diff = an_initial_state_packed - p\n",
    "    # should return 0\n",
    "    print(\"diff\",np.sum(np.abs(diff)))"
   ]
  },
  {
   "cell_type": "markdown",
   "metadata": {},
   "source": [
    "## Initial state\n",
    "\n",
    "Create a placeholder for initial packed states. This makes it possible to supply the initial states to the LSTM network as a simple vector. Then add a unpack operation to the computation graph. This outputs the initial state as a LSTMTuple vector which can be used by the dynamic RNN function later on."
   ]
  },
  {
   "cell_type": "code",
   "execution_count": 10,
   "metadata": {
    "scrolled": true
   },
   "outputs": [
    {
     "name": "stdout",
     "output_type": "stream",
     "text": [
      "states in network 64\n"
     ]
    }
   ],
   "source": [
    "sz = get_network_state_size(hidden_network)\n",
    "print(\"states in network\", sz)\n",
    "\n",
    "\n",
    "initial_state_packed = tf.placeholder(\n",
    "    tf.float32, \n",
    "    (None,sz), \n",
    "    name=\"initial_state\")\n",
    "\n",
    "state_unpacked = unpack_state_tuple(initial_state_packed,hidden_network.state_size)\n"
   ]
  },
  {
   "cell_type": "markdown",
   "metadata": {},
   "source": [
    "## Forward propagation\n",
    "\n",
    "Define the forward calculations by using the dynamic_rnn function. This function needs and outputs the network states in unpacked format. "
   ]
  },
  {
   "cell_type": "code",
   "execution_count": 11,
   "metadata": {},
   "outputs": [
    {
     "name": "stdout",
     "output_type": "stream",
     "text": [
      "inputs  (?, 100, 1)\n",
      "packed state (?, 64)\n",
      "outputs before transpose (?, 100, 16)\n",
      "outputs after transpose (100, ?, 16)\n",
      "last output (?, 16)\n",
      "prediction (?, 1)\n",
      "targets (?, 1)\n"
     ]
    }
   ],
   "source": [
    "#out_weights=tf.Variable(tf.random_normal([hidden_count_per_layer[-1],output_feature_count]))\n",
    "#out_bias=tf.Variable(tf.random_normal([output_feature_count]))\n",
    "print(\"inputs \",inputs.shape)\n",
    "outputs, state_unpacked_network_out = tf.nn.dynamic_rnn(hidden_network, inputs, initial_state = state_unpacked, dtype=tf.float32) #, initial_state=rnn_tuple_state, )\n",
    "state_packed_network_out = pack_state_tuple(state_unpacked_network_out)\n",
    "print(\"packed state\", state_packed_network_out.shape)\n",
    "print(\"outputs before transpose\", outputs.shape)\n",
    "outputs = tf.transpose(outputs, [1, 0, 2])\n",
    "print(\"outputs after transpose\", outputs.shape)\n",
    "#last_output = tf.gather(outputs, int(outputs.get_shape()[0]) - 1)\n",
    "last_output =  outputs[outputs.shape[0]-1,:,:]\n",
    "print(\"last output\", last_output.shape)\n",
    "                                   \n",
    "#out_size = target.get_shape()[2].value\n",
    "predictions = tf.contrib.layers.fully_connected(last_output, output_feature_count, activation_fn=None)\n",
    "print(\"prediction\", predictions.shape)\n",
    "print(\"targets\", targets.shape)"
   ]
  },
  {
   "cell_type": "markdown",
   "metadata": {},
   "source": [
    "## Backward pass, training\n",
    "\n",
    "Define the loss as the total of the squared differences between the the last output (prediction) and the target. "
   ]
  },
  {
   "cell_type": "code",
   "execution_count": 12,
   "metadata": {},
   "outputs": [],
   "source": [
    "loss = tf.reduce_sum(tf.squared_difference(predictions, targets))"
   ]
  },
  {
   "cell_type": "code",
   "execution_count": 13,
   "metadata": {},
   "outputs": [],
   "source": [
    "opt=tf.train.AdamOptimizer(learning_rate=learning_rate).minimize(loss)"
   ]
  },
  {
   "cell_type": "markdown",
   "metadata": {},
   "source": [
    "## Defining the train, dev and test set\n",
    "\n",
    "Generally you would define 3 sets:\n",
    "* A set to train on: Train set\n",
    "* A set to tune the hyper parameters on: Dev set\n",
    "* A set to test the generalization performance of the network: Test set\n",
    "\n",
    "In the case of sine wave this is a bit useless. The dev set and test set overlap because of the periodic nature of the sine wave. I added noise to the source signal to make the train, dev and test set at least partly independent."
   ]
  },
  {
   "cell_type": "code",
   "execution_count": 14,
   "metadata": {
    "scrolled": true
   },
   "outputs": [
    {
     "name": "stdout",
     "output_type": "stream",
     "text": [
      "dataset size 49899\n",
      "29941 Examples (233 batches) in train set\n",
      "9979 Examples (77 batches) in dev set\n",
      "9979 Examples (77 batches) in test set\n"
     ]
    }
   ],
   "source": [
    "\n",
    "start_indices = np.linspace(\n",
    "    0,\n",
    "    sample_length-sequence_length-prediction_length-1,\n",
    "    sample_length-sequence_length-prediction_length-1, dtype= np.int32)\n",
    "\n",
    "#When you have many examples then you can get away with tiny sizes for the dev and test set.\n",
    "dev_size_perc = 0.20\n",
    "test_size_perc = 0.20\n",
    "batch_size = 128 #512 \n",
    "\n",
    "dev_size = int(np.floor(start_indices.shape[0] * dev_size_perc))\n",
    "test_size  = int(np.floor(start_indices.shape[0] * test_size_perc))\n",
    "train_size = start_indices.shape[0] - test_size - dev_size\n",
    "train_batch_count = int(np.floor(train_size / batch_size))\n",
    "dev_batch_count = int(np.floor(dev_size / batch_size))\n",
    "test_batch_count = int(np.floor(test_size / batch_size))\n",
    "\n",
    "print(\"dataset size %d\" %(start_indices.shape[0]))\n",
    "print(\"%d Examples (%d batches) in train set\" %(train_size, train_batch_count))\n",
    "print(\"%d Examples (%d batches) in dev set\" %(dev_size,dev_batch_count))\n",
    "print(\"%d Examples (%d batches) in test set\" %(test_size,test_batch_count))\n",
    "\n"
   ]
  },
  {
   "cell_type": "markdown",
   "metadata": {},
   "source": [
    "## Creating batches\n",
    "\n",
    "The network will be trained using mini batches. This speeds up training because a network training step is performed after each mini batch in contrast to updating after presenting the complete training set."
   ]
  },
  {
   "cell_type": "code",
   "execution_count": 15,
   "metadata": {
    "scrolled": false
   },
   "outputs": [
    {
     "name": "stdout",
     "output_type": "stream",
     "text": [
      "(128, 100, 1) (128, 1)\n",
      "(100, 1)\n"
     ]
    },
    {
     "data": {
      "application/vnd.plotly.v1+json": {
       "data": [
        {
         "type": "scatter",
         "y": [
          0.25586661578062775,
          0.2113902778682897,
          0.1275118204883805,
          0.06328061795923293,
          0.0025380759035408106,
          -0.042139754445326714,
          -0.10724852835645043,
          -0.14661883556485647,
          -0.2623907446643743,
          -0.292931513325702,
          -0.33224915498115193,
          -0.41104824477110735,
          -0.4346793915154579,
          -0.5333705254046659,
          -0.5821664718161046,
          -0.6093779725070855,
          -0.6481005852724403,
          -0.7295331653603472,
          -0.7287415260439547,
          -0.8040143490229175,
          -0.8556579784536297,
          -0.8521535015942178,
          -0.8682193632268257,
          -0.9201712034896309,
          -0.9522706423497216,
          -0.9356716037774885,
          -0.9954595265343607,
          -0.9509569237274775,
          -0.9852313501079415,
          -0.9964143379548179,
          -0.983716834683751,
          -0.9940044131736233,
          -0.9935934662936032,
          -0.9596059778107673,
          -1.0327593153162633,
          -0.9379936804318362,
          -0.9418303022300529,
          -0.864874000188041,
          -0.8296578849855012,
          -0.7827595897627194,
          -0.7603092238080611,
          -0.7329860959434612,
          -0.6795443712962281,
          -0.638720720811216,
          -0.6344464917480599,
          -0.5351437580278402,
          -0.5069750751946241,
          -0.43592801418367527,
          -0.42553010705565747,
          -0.3260004392940707,
          -0.2337441453861695,
          -0.1912857401151467,
          -0.14310463979031995,
          -0.08443700533995716,
          -0.022909731499399386,
          0.08680612428794507,
          0.1205938365989491,
          0.16986562303647462,
          0.2207759453286145,
          0.33245444640441263,
          0.3450980717833889,
          0.41158331241583473,
          0.5121225114498174,
          0.5548016799408272,
          0.5847807549267087,
          0.6389404755722021,
          0.6984125713050864,
          0.705760382413495,
          0.7732287045798187,
          0.7989972621414547,
          0.8330600711854514,
          0.8750351317908898,
          0.8828714219736365,
          0.9104599887408784,
          0.9090238136663011,
          0.989626996181425,
          0.9529198495236159,
          1.009809262811336,
          0.9941091556245714,
          1.0003176110163716,
          1.016612328322244,
          1.0160242423888497,
          1.0105604882364612,
          0.9705401299558875,
          0.949562062482992,
          0.9505571284343388,
          0.9219776749920697,
          0.889598781529184,
          0.8647821311630576,
          0.795138421281014,
          0.7751283722862748,
          0.7249610450688796,
          0.6806197233982677,
          0.6422932807599323,
          0.5989253068423827,
          0.5409844046117515,
          0.49720280800050387,
          0.44628772874849854,
          0.3779544914735879,
          0.3375525617282487
         ]
        }
       ],
       "layout": {
        "title": ""
       }
      },
      "text/html": [
       "<div id=\"87475023-6910-45cc-bcb2-6c88962db2b2\" style=\"height: 525px; width: 100%;\" class=\"plotly-graph-div\"></div><script type=\"text/javascript\">require([\"plotly\"], function(Plotly) { window.PLOTLYENV=window.PLOTLYENV || {};window.PLOTLYENV.BASE_URL=\"https://plot.ly\";Plotly.newPlot(\"87475023-6910-45cc-bcb2-6c88962db2b2\", [{\"type\": \"scatter\", \"y\": [0.25586661578062775, 0.2113902778682897, 0.1275118204883805, 0.06328061795923293, 0.0025380759035408106, -0.042139754445326714, -0.10724852835645043, -0.14661883556485647, -0.2623907446643743, -0.292931513325702, -0.33224915498115193, -0.41104824477110735, -0.4346793915154579, -0.5333705254046659, -0.5821664718161046, -0.6093779725070855, -0.6481005852724403, -0.7295331653603472, -0.7287415260439547, -0.8040143490229175, -0.8556579784536297, -0.8521535015942178, -0.8682193632268257, -0.9201712034896309, -0.9522706423497216, -0.9356716037774885, -0.9954595265343607, -0.9509569237274775, -0.9852313501079415, -0.9964143379548179, -0.983716834683751, -0.9940044131736233, -0.9935934662936032, -0.9596059778107673, -1.0327593153162633, -0.9379936804318362, -0.9418303022300529, -0.864874000188041, -0.8296578849855012, -0.7827595897627194, -0.7603092238080611, -0.7329860959434612, -0.6795443712962281, -0.638720720811216, -0.6344464917480599, -0.5351437580278402, -0.5069750751946241, -0.43592801418367527, -0.42553010705565747, -0.3260004392940707, -0.2337441453861695, -0.1912857401151467, -0.14310463979031995, -0.08443700533995716, -0.022909731499399386, 0.08680612428794507, 0.1205938365989491, 0.16986562303647462, 0.2207759453286145, 0.33245444640441263, 0.3450980717833889, 0.41158331241583473, 0.5121225114498174, 0.5548016799408272, 0.5847807549267087, 0.6389404755722021, 0.6984125713050864, 0.705760382413495, 0.7732287045798187, 0.7989972621414547, 0.8330600711854514, 0.8750351317908898, 0.8828714219736365, 0.9104599887408784, 0.9090238136663011, 0.989626996181425, 0.9529198495236159, 1.009809262811336, 0.9941091556245714, 1.0003176110163716, 1.016612328322244, 1.0160242423888497, 1.0105604882364612, 0.9705401299558875, 0.949562062482992, 0.9505571284343388, 0.9219776749920697, 0.889598781529184, 0.8647821311630576, 0.795138421281014, 0.7751283722862748, 0.7249610450688796, 0.6806197233982677, 0.6422932807599323, 0.5989253068423827, 0.5409844046117515, 0.49720280800050387, 0.44628772874849854, 0.3779544914735879, 0.3375525617282487]}], {\"title\": \"\"}, {\"showLink\": true, \"linkText\": \"Export to plot.ly\"})});</script>"
      ],
      "text/vnd.plotly.v1+html": [
       "<div id=\"87475023-6910-45cc-bcb2-6c88962db2b2\" style=\"height: 525px; width: 100%;\" class=\"plotly-graph-div\"></div><script type=\"text/javascript\">require([\"plotly\"], function(Plotly) { window.PLOTLYENV=window.PLOTLYENV || {};window.PLOTLYENV.BASE_URL=\"https://plot.ly\";Plotly.newPlot(\"87475023-6910-45cc-bcb2-6c88962db2b2\", [{\"type\": \"scatter\", \"y\": [0.25586661578062775, 0.2113902778682897, 0.1275118204883805, 0.06328061795923293, 0.0025380759035408106, -0.042139754445326714, -0.10724852835645043, -0.14661883556485647, -0.2623907446643743, -0.292931513325702, -0.33224915498115193, -0.41104824477110735, -0.4346793915154579, -0.5333705254046659, -0.5821664718161046, -0.6093779725070855, -0.6481005852724403, -0.7295331653603472, -0.7287415260439547, -0.8040143490229175, -0.8556579784536297, -0.8521535015942178, -0.8682193632268257, -0.9201712034896309, -0.9522706423497216, -0.9356716037774885, -0.9954595265343607, -0.9509569237274775, -0.9852313501079415, -0.9964143379548179, -0.983716834683751, -0.9940044131736233, -0.9935934662936032, -0.9596059778107673, -1.0327593153162633, -0.9379936804318362, -0.9418303022300529, -0.864874000188041, -0.8296578849855012, -0.7827595897627194, -0.7603092238080611, -0.7329860959434612, -0.6795443712962281, -0.638720720811216, -0.6344464917480599, -0.5351437580278402, -0.5069750751946241, -0.43592801418367527, -0.42553010705565747, -0.3260004392940707, -0.2337441453861695, -0.1912857401151467, -0.14310463979031995, -0.08443700533995716, -0.022909731499399386, 0.08680612428794507, 0.1205938365989491, 0.16986562303647462, 0.2207759453286145, 0.33245444640441263, 0.3450980717833889, 0.41158331241583473, 0.5121225114498174, 0.5548016799408272, 0.5847807549267087, 0.6389404755722021, 0.6984125713050864, 0.705760382413495, 0.7732287045798187, 0.7989972621414547, 0.8330600711854514, 0.8750351317908898, 0.8828714219736365, 0.9104599887408784, 0.9090238136663011, 0.989626996181425, 0.9529198495236159, 1.009809262811336, 0.9941091556245714, 1.0003176110163716, 1.016612328322244, 1.0160242423888497, 1.0105604882364612, 0.9705401299558875, 0.949562062482992, 0.9505571284343388, 0.9219776749920697, 0.889598781529184, 0.8647821311630576, 0.795138421281014, 0.7751283722862748, 0.7249610450688796, 0.6806197233982677, 0.6422932807599323, 0.5989253068423827, 0.5409844046117515, 0.49720280800050387, 0.44628772874849854, 0.3779544914735879, 0.3375525617282487]}], {\"title\": \"\"}, {\"showLink\": true, \"linkText\": \"Export to plot.ly\"})});</script>"
      ]
     },
     "metadata": {},
     "output_type": "display_data"
    }
   ],
   "source": [
    "#A batch of examples can start at an arbitrary index in the source signal. \n",
    "# Shuffle the indices to fill the train. dev and test set with different sequences\n",
    "\n",
    "np.random.shuffle (start_indices)\n",
    "train_indices = start_indices[0:int(train_size)]\n",
    "dev_indices= start_indices[int(train_size):int(train_size+dev_size)]\n",
    "test_indices = start_indices[int(train_size+dev_size):int(train_size+dev_size+test_size)]\n",
    "\n",
    "def get_batch(batch_index, indexes, size=batch_size):\n",
    "    batch_start_indexes = indexes[batch_index*size:batch_index*size+size]\n",
    "    batch_inputs = np.zeros((size,sequence_length, input_feature_count))\n",
    "    batch_targets = np.zeros((size,prediction_length))\n",
    "    for i in range(size):\n",
    "        se = batch_start_indexes[i]\n",
    "        part = signal_amp[se:se+sequence_length]\n",
    "        batch_inputs[i,0:sequence_length,0] = part\n",
    "        batch_targets[i,0] = signal_amp[se+sequence_length+1]\n",
    "\n",
    "    return batch_inputs,batch_targets\n",
    "\n",
    "batch_inputs,batch_targets = get_batch(train_batch_count-1,train_indices)\n",
    "print(batch_inputs.shape,batch_targets.shape)\n",
    "\n",
    "example_inputs = batch_inputs[0,:,:]\n",
    "example_targets =  batch_targets[0,:]\n",
    "print(example_inputs.shape)\n",
    "\n",
    "#plot a single example\n",
    "b_i = 1\n",
    "b_s = batch_inputs[b_i,0:sequence_length,0]\n",
    "plotly.offline.iplot({\n",
    "    \"data\": [Scatter(y=b_s)],\n",
    "    \"layout\": Layout(title=\"\")\n",
    "})"
   ]
  },
  {
   "cell_type": "markdown",
   "metadata": {},
   "source": [
    "## Test training using a single batch\n",
    "In the next cell I check if I can train the network on one single batch. Just to check if the optimizer is indeed able to train the network. Successful training should decrease the loss. In the output you will see the loss decreasing (first column)"
   ]
  },
  {
   "cell_type": "code",
   "execution_count": 16,
   "metadata": {
    "scrolled": false
   },
   "outputs": [
    {
     "name": "stdout",
     "output_type": "stream",
     "text": [
      "batch input shape (128, 100, 1)\n",
      "(128, 1)\n",
      "[ 0.04703456] [-0.66767944]\n",
      "69.1535 [ 0.04703381] [-0.66767944]\n",
      "2.39038 [-0.71438432] [-0.66767944]\n",
      "0.769588 [-0.72163767] [-0.66767944]\n",
      "0.238517 [-0.71686089] [-0.66767944]\n",
      "0.133357 [-0.67176348] [-0.66767944]\n",
      "0.130659 [-0.67786527] [-0.66767944]\n",
      "0.102174 [-0.66787326] [-0.66767944]\n",
      "0.0939764 [-0.68473738] [-0.66767944]\n",
      "0.0897313 [-0.6789692] [-0.66767944]\n",
      "0.0882396 [-0.6785149] [-0.66767944]\n",
      "0.0865416 [-0.68145192] [-0.66767944]\n",
      "0.0851147 [-0.67975515] [-0.66767944]\n"
     ]
    }
   ],
   "source": [
    "np.random.shuffle (start_indices)\n",
    "train_indices = start_indices[0:int(train_size)]\n",
    "dev_indices= start_indices[int(train_size):int(train_size+dev_size)]\n",
    "test_indices = start_indices[int(train_size+dev_size):int(train_size+dev_size+test_size)]\n",
    "\n",
    "zero_state_packed = np.zeros((batch_size, get_network_state_size(hidden_network)))\n",
    "\n",
    "\n",
    "init=tf.global_variables_initializer()\n",
    "with tf.Session() as sess:\n",
    "    sess.run(init)\n",
    "\n",
    "    np.random.shuffle (train_indices)\n",
    "    \n",
    "    batch_inputs,batch_targets = get_batch(0, train_indices)\n",
    "    print(\"batch input shape\", batch_inputs.shape)\n",
    "    #v_outputs, v_state = sess.run([outputs,state], feed_dict={inputs: batch_inputs, targets: batch_targets})\n",
    "    v_predictions, v_state_unpacked = sess.run([predictions, state_unpacked_network_out], \n",
    "                                      feed_dict={\n",
    "                                          inputs: batch_inputs, \n",
    "                                          targets: batch_targets,\n",
    "                                          initial_state_packed: zero_state_packed\n",
    "                                      })\n",
    "    print(v_predictions.shape)\n",
    "    print(v_predictions[0],batch_targets[0])\n",
    "    for i in range(0,120):\n",
    "        v_predictions, v_outputs, v_state_unpacked, v_loss, v_opt = sess.run(\n",
    "            [predictions, outputs, state_unpacked_network_out, loss, opt], \n",
    "            feed_dict={\n",
    "                learning_rate: 0.02, \n",
    "                inputs: batch_inputs, \n",
    "                targets: batch_targets,\n",
    "                state_unpacked: v_state_unpacked\n",
    "            }) #})\n",
    "        if i % 10 == 0:\n",
    "            print(v_loss,v_predictions[0],batch_targets[0])\n",
    " \n",
    "\n",
    "    \n",
    "    "
   ]
  },
  {
   "cell_type": "markdown",
   "metadata": {},
   "source": [
    "## Training and Testing\n",
    "\n",
    "Finally we can train and test the network. The training consists of 'epochs' during which all training batches are presented. After presenting a single training batch the network is immediately optimized. After an epoch the loss is calculated over the dev set and printed. \n",
    "\n",
    "Next a graph is plotted which shows an example of the network predicting a sine wave. The prediction is based on first 'priming' the network by presenting part of a sine. \n",
    "\n",
    "After completing training on a number of epochs. The last predictions is executed over a longer time period."
   ]
  },
  {
   "cell_type": "code",
   "execution_count": null,
   "metadata": {
    "scrolled": false
   },
   "outputs": [
    {
     "name": "stdout",
     "output_type": "stream",
     "text": [
      "Epoch 0\n",
      "Train\n",
      "......................................................................................................................................................................................................."
     ]
    }
   ],
   "source": [
    "np.random.shuffle (start_indices)\n",
    "\n",
    "#create a randomized train, dev and test set\n",
    "train_indices = start_indices[0:int(train_size)]\n",
    "dev_indices= start_indices[int(train_size):int(train_size+dev_size)]\n",
    "test_indices = start_indices[int(train_size+dev_size):int(train_size+dev_size+test_size)]\n",
    "\n",
    "\n",
    "#initialization of the network states for a single mini batch, by setting them to zero\n",
    "#You could also initialize by using random states.\n",
    "batch_zero_state_packed = np.zeros((batch_size, get_network_state_size(hidden_network)))\n",
    "\n",
    "\n",
    "epoch_count = 10\n",
    "\n",
    "#Store the performance over the dev set in loss_results\n",
    "loss_results = np.zeros((epoch_count,2))\n",
    "\n",
    "def get_loss(set_name, bsz, example_set_indices):\n",
    "    \"\"\"Calculate a score over all batches in a set\"\"\"\n",
    "    epoch_loss = 0.0\n",
    "    for example_index in range(bsz):\n",
    "        batch_inputs,batch_targets = get_batch(example_index, example_set_indices)\n",
    "\n",
    "        batch_loss = sess.run(loss,feed_dict={\n",
    "            inputs:batch_inputs,\n",
    "            targets:batch_targets,\n",
    "            initial_state_packed: batch_zero_state_packed\n",
    "        })\n",
    "        if example_index % 20 == 0:\n",
    "            print(\"  %s results batch %d, loss %s\" %(  set_name, example_index, str(batch_loss)))  \n",
    "\n",
    "        epoch_loss += batch_loss\n",
    "    return epoch_loss / len(example_set_indices)\n",
    "\n",
    "def generate_graph(graph_size=200):\n",
    "    \"\"\"Use the network to generate a graph\"\"\"\n",
    "    \n",
    "    #The network will be primed using prime_size samples of the original signal\n",
    "    prime_size = 50\n",
    "    prime_signal_start_i = 0\n",
    "    \n",
    "    #put prime_size samples of the original signal in tmp_singal\n",
    "    orig_signal = np.zeros((graph_size,1))\n",
    "    tmp_signal = np.zeros((graph_size,1))\n",
    "    tmp_signal[0:prime_size,0] = signal_amp[prime_signal_start_i:(prime_signal_start_i+prime_size)]\n",
    "    orig_signal[0:graph_size,0] = signal_amp[prime_signal_start_i:(prime_signal_start_i+graph_size)]\n",
    "    \n",
    "    #create a sequence for a batch_size of 1\n",
    "    seq = np.zeros((1,sequence_length,1))\n",
    "    seq_state_packed = np.zeros((1, get_network_state_size(hidden_network)))\n",
    "    \n",
    "    _state_unpacked = None\n",
    "    #generate the graph\n",
    "    for end in range(prime_size, graph_size):\n",
    "        #get a sequence to present to the network\n",
    "        seq[0,:,0] = tmp_signal.take(range((end-sequence_length),end), mode='wrap')\n",
    "        \n",
    "        #get a prediction\n",
    "        seq_state_packed , _prediction = sess.run(\n",
    "            [state_packed_network_out, predictions[0,0]], \n",
    "            feed_dict={\n",
    "                initial_state_packed: seq_state_packed,\n",
    "                inputs: seq})\n",
    "        #put the prediction in the graph\n",
    "        tmp_signal[end,0] = _prediction\n",
    "        sys.stdout.write('.')\n",
    "        sys.stdout.flush()\n",
    "    print(\"\")\n",
    "    plotly.offline.iplot({\n",
    "       \"data\": [Scatter(name=\"predicted\",y=tmp_signal[:,0]),Scatter(name=\"original\",y=orig_signal[:,0])],\n",
    "       \"layout\": Layout(title=\"\")})\n",
    "\n",
    "\n",
    "init=tf.global_variables_initializer()\n",
    "with tf.Session() as sess:\n",
    "    sess.run(init)\n",
    "\n",
    "\n",
    "\n",
    "    for epoch in range(0,epoch_count):\n",
    "        print(\"Epoch %d\" %(epoch))\n",
    "        #in every epoch go through the training set in a different order\n",
    "        np.random.shuffle (train_indices)\n",
    "        print(\"Train\")\n",
    "        for ti in range(train_batch_count):\n",
    "            batch_inputs,batch_targets = get_batch(ti, train_indices)\n",
    "\n",
    "            #train the network\n",
    "            #I reset the state to zero for each batch. \n",
    "            batch_train_loss, _ = sess.run([loss, opt], \n",
    "                                           feed_dict={\n",
    "                                               learning_rate: 0.00005, \n",
    "                                               inputs: batch_inputs, \n",
    "                                               targets: batch_targets,\n",
    "                                               initial_state_packed: batch_zero_state_packed\n",
    "                                           })\n",
    "            sys.stdout.write('.')\n",
    "            sys.stdout.flush()\n",
    "        print(\"\")\n",
    "        epoch_train_loss = get_loss(\"Train\", train_batch_count, train_indices)\n",
    "        print(\"Training results epoch %d, loss %s\" %( epoch, str(epoch_train_loss)))\n",
    "        epoch_dev_loss = get_loss(\"Dev\", dev_batch_count, dev_indices)    \n",
    "        print(\"Dev results epoch %d, loss %s\" %( epoch, str(epoch_dev_loss)))  \n",
    "        loss_results[epoch,0] = epoch_train_loss\n",
    "        loss_results[epoch,1] = epoch_dev_loss\n",
    "        ti += 1\n",
    "        generate_graph()\n",
    "        \n",
    "    #generate a last long graph\n",
    "    generate_graph(graph_size=1000)\n",
    "    \n",
    "    plotly.offline.iplot({\n",
    "       \"data\": [Scatter(name=\"loss train\",y=loss_results[:,0]),Scatter(name=\"loss dev\",y=loss_results[:,1])],\n",
    "       \"layout\": Layout(title=\"\")})\n",
    "\n",
    "        "
   ]
  },
  {
   "cell_type": "markdown",
   "metadata": {},
   "source": [
    "## Conclusion, next steps\n",
    "\n",
    "When playing around with the parameters I found out that often the network performed better on the dev set than the train set! Clearly overlapping dev and train sets are nonsensical. Also the network seems to optimize on predicting the amplitude but not frequency. Probably the frequency can be better predicted by training on more then only one value (last_output).\n",
    "\n",
    "This example gave me a good overview of some TensorFlow features. More generally there are so many hyper parameters to choose when building a network architecture:\n",
    "  * basic parameters: network size, learning rate, drop-out, optimization method\n",
    "  * how to choose initial state\n",
    "  * predict one sample, or multiple samples\n",
    "  * loss function\n",
    "  \n",
    "It would be interesting to automatically tune the hyper-parameters as well. Maybe using genetic networks?\n",
    "\n",
    "I am planning to use the approach in this article to process sampled sound waves. Things that cross my mind:\n",
    "\n",
    "  * Apply on raw audio\n",
    "      * Sample microphone via WebAudo, send the samples to the notebook via WebSocket, analyze and feed the result back\n",
    "  * Implement a phase vocodor, instead of raw audio, input the frequency features\n",
    "  * Achieve something like [this](https://deepmind.com/blog/wavenet-generative-model-raw-audio/)\n",
    "  * Process a MIDI file\n",
    "  * Generate text\n",
    "  * Train on multi-feature sequence (eg. audio and corresponding text)\n",
    "\n",
    "Stay tuned...."
   ]
  }
 ],
 "metadata": {
  "kernelspec": {
   "display_name": "Python 3",
   "language": "python",
   "name": "python3"
  },
  "language_info": {
   "codemirror_mode": {
    "name": "ipython",
    "version": 3
   },
   "file_extension": ".py",
   "mimetype": "text/x-python",
   "name": "python",
   "nbconvert_exporter": "python",
   "pygments_lexer": "ipython3",
   "version": "3.5.2"
  }
 },
 "nbformat": 4,
 "nbformat_minor": 2
}
