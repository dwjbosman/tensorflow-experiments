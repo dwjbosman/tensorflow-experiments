{
 "cells": [
  {
   "cell_type": "code",
   "execution_count": 1,
   "metadata": {},
   "outputs": [],
   "source": [
    "import asyncio\n",
    "from autobahn.asyncio.websocket import WebSocketServerProtocol, WebSocketServerFactory\n",
    "import websockets\n",
    "import numpy\n",
    "import threading\n",
    "import time\n",
    "\n",
    "from ipywidgets import interact, interactive, fixed, interact_manual\n",
    "import ipywidgets as widgets"
   ]
  },
  {
   "cell_type": "code",
   "execution_count": 2,
   "metadata": {},
   "outputs": [],
   "source": [
    "loop = asyncio.get_event_loop()\n",
    "\n",
    "class WebIOThread(threading.Thread):\n",
    "    def __init__(self):\n",
    "        super().__init__()\n",
    "        self.loop = asyncio.get_event_loop()\n",
    "        self.should_quit = False\n",
    "    def quit(self):\n",
    "        self.should_quit = True\n",
    "        #print(self.loop.is_running())\n",
    "        if (self.loop.is_running):\n",
    "            self.loop.call_soon_threadsafe(self.loop.stop)\n",
    "    \n",
    "    def run(self):\n",
    "        self.running = True\n",
    "        print(\"thread start\")    \n",
    "        while (not self.should_quit):\n",
    "        #logging.debug('running')\n",
    "            print(\"start loop\")\n",
    "            self.loop.run_forever()\n",
    "            print(\"loop exited\")\n",
    "            if (not self.should_quit):\n",
    "                time.sleep(1)\n",
    "        print(\"thread exit\")    \n",
    "        self.running = False"
   ]
  },
  {
   "cell_type": "code",
   "execution_count": 98,
   "metadata": {},
   "outputs": [
    {
     "name": "stdout",
     "output_type": "stream",
     "text": [
      "components 5\n",
      "[ 0.35551405  0.35626394  0.35682222  0.35718837  0.35736197  0.35734275\n",
      "  0.35713059  0.35672551  0.35612771  0.3553375 ]\n"
     ]
    }
   ],
   "source": [
    "bufsize = 4096\n",
    "buf = numpy.zeros(bufsize,dtype=numpy.float32)\n",
    "mx = numpy.ones(bufsize,dtype=numpy.float32)*1.0\n",
    "mn = numpy.ones(bufsize,dtype=numpy.float32)*-1.0 #1.0\n",
    "\n",
    "sampleNumber = 0\n",
    "sine_freqs = numpy.arange(220,700,100)\n",
    "sine_pos = numpy.zeros(sine_freqs.size)\n",
    "REAL_TIME_FREQUENCY = 220.0\n",
    "ANGULAR_FREQUENCY = REAL_TIME_FREQUENCY * 2.0 * numpy.pi\n",
    "\n",
    "def setFreq(hz):\n",
    "    global REAL_TIME_FREQUENCY\n",
    "    global ANGULAR_FREQUENCY\n",
    "    REAL_TIME_FREQUENCY = hz\n",
    "    ANGULAR_FREQUENCY = REAL_TIME_FREQUENCY * 2.0 * numpy.pi\n",
    "    \n",
    "interact(setFreq, hz=widgets.FloatSlider(min=20,max=20000,step=1,value=220))\n",
    "\n",
    "def fillBuffer():\n",
    "    global sampleNumber\n",
    "    global sine_freqs\n",
    "    global buf\n",
    "    for i in range(0,bufsize):\n",
    "        buf[i]=0\n",
    "        components = sine_freqs.size\n",
    "        sine_freqs = sine_freqs + numpy.random.uniform(-0.1,0.1,components)\n",
    "        for j in range(0,components):\n",
    "            sine_pos[j] += (sine_freqs[j]*2.0 * numpy.pi)/44100.0\n",
    "            buf[i] += numpy.sin(sine_pos[j])/components\n",
    "        \n",
    "    tmp = numpy.fft.fft(buf)\n",
    "    tmp[20:tmp.size-20]=0 #,dtype=numpy.complex)\n",
    "    tmp = numpy.fft.ifft(tmp)\n",
    "    buf = numpy.real(tmp).astype(numpy.float32)\n",
    "    buf = numpy.minimum(buf,mx)\n",
    "    buf = numpy.maximum(buf,mn)     \n",
    "        #sampleTime = sampleTime + 1 / 44100.0 #sampleNumber / 44100.0\n",
    "        #sampleAngle = sampleTime * ANGULAR_FREQUENCY\n",
    "        #buf[i] = numpy.sin(sampleAngle)\n",
    "        #sampleNumber += 1\n",
    "print(\"components\", sine_freqs.size)\n",
    "fillBuffer()\n",
    "\n",
    "\n",
    "\n",
    "print(buf[0:10])\n",
    "\n",
    "#tmp = numpy.fft.fft(buf)\n",
    "#tmp = numpy.fft.ifft(tmp)\n",
    "#print(numpy.real(tmp[0:10]))\n"
   ]
  },
  {
   "cell_type": "code",
   "execution_count": 4,
   "metadata": {
    "collapsed": true
   },
   "outputs": [],
   "source": [
    "server = None\n",
    "loop_thread = None"
   ]
  },
  {
   "cell_type": "code",
   "execution_count": 99,
   "metadata": {},
   "outputs": [],
   "source": [
    "class SignalGeneratorProtocol(WebSocketServerProtocol):\n",
    "    def onConnect(self, request):\n",
    "        print(\"Client connecting2: {}\".format(request.peer))\n",
    "\n",
    "    def onOpen(self):\n",
    "        print(\"WebSocket connection open2.\")\n",
    "\n",
    "    def onMessage(self, payload, isBinary):\n",
    "        #if isBinary:\n",
    "        #    print(\"Binary message received: {} bytes\".format(len(payload)))\n",
    "        #else:\n",
    "        #    print(\"Text message received: {}\".format(payload.decode('utf8')))\n",
    "\n",
    "        # echo back message verbatim\n",
    "        #self.sendMessage(payload, isBinary)\n",
    "        #print(\"fillb\")\n",
    "        fillBuffer()\n",
    "        #print(\"send1\")\n",
    "        self.sendMessage(buf.tobytes(), True)\n",
    "        #print(\"send2\")\n",
    "           \n",
    "    def onClose(self, wasClean, code, reason):\n",
    "        print(\"WebSocket connection closed: {}\".format(reason))"
   ]
  },
  {
   "cell_type": "code",
   "execution_count": 100,
   "metadata": {},
   "outputs": [],
   "source": [
    "factory = WebSocketServerFactory()\n",
    "factory.protocol = SignalGeneratorProtocol"
   ]
  },
  {
   "cell_type": "code",
   "execution_count": 101,
   "metadata": {},
   "outputs": [
    {
     "name": "stdout",
     "output_type": "stream",
     "text": [
      "loop exited\n",
      "thread exit\n",
      "thread start\n",
      "start loop\n"
     ]
    }
   ],
   "source": [
    "if server is not None:\n",
    "    server.close()\n",
    "\n",
    "if (loop_thread is not None):\n",
    "    loop_thread.quit()\n",
    "    loop_thread.join()\n",
    "    \n",
    "loop = asyncio.get_event_loop()\n",
    "coro = loop.create_server(factory, '0.0.0.0', 8889)\n",
    "server = loop.run_until_complete(coro)\n",
    "\n",
    "loop_thread = WebIOThread()\n",
    "loop_thread.start()"
   ]
  },
  {
   "cell_type": "code",
   "execution_count": null,
   "metadata": {},
   "outputs": [],
   "source": [
    "async def do_hello():\n",
    "    async with websockets.connect('ws://localhost:8889') as websocket:\n",
    "\n",
    "        name = \"dinne\"\n",
    "        await websocket.send(name)\n",
    "        print(\"> v {}\".format(name))\n",
    "\n",
    "        greeting = await websocket.recv()\n",
    "        print(\"< w {}\".format(greeting))\n",
    "\n",
    "#asyncio.get_event_loop().run_until_complete(do_hello())"
   ]
  },
  {
   "cell_type": "code",
   "execution_count": null,
   "metadata": {
    "collapsed": true
   },
   "outputs": [],
   "source": []
  },
  {
   "cell_type": "code",
   "execution_count": null,
   "metadata": {},
   "outputs": [],
   "source": [
    "%%javascript\n",
    "window.audioContext = new AudioContext();"
   ]
  },
  {
   "cell_type": "code",
   "execution_count": null,
   "metadata": {},
   "outputs": [],
   "source": [
    "%%javascript\n",
    "const REAL_TIME_FREQUENCY = 220;//440;\n",
    "const ANGULAR_FREQUENCY = REAL_TIME_FREQUENCY * 2 * Math.PI;\n",
    "\n",
    "\n",
    "var bufferSize = 4096;\n",
    "window.brownNoise = (function() {\n",
    "    var lastOut = 0.0;\n",
    "    var sampleNumber = 0;\n",
    "    var node = window.audioContext.createScriptProcessor(bufferSize, 1, 1);\n",
    "    node.onaudioprocess = function(e) {\n",
    "        var output = e.outputBuffer.getChannelData(0);\n",
    "        for (var i = 0; i < bufferSize; i++) {\n",
    "            var white = Math.random() * 2 - 1;\n",
    "            output[i] = (lastOut + (0.02 * white)) / 1.02;\n",
    "            lastOut = output[i];\n",
    "            output[i] *= 3.5; // (roughly) compensate for gain\n",
    "            \n",
    "              let sampleTime = sampleNumber / 44100;\n",
    "              let sampleAngle = sampleTime * ANGULAR_FREQUENCY;\n",
    "              output[i] =  Math.sin(sampleAngle);\n",
    "              sampleNumber += 1;\n",
    "        }\n",
    "    }\n",
    "    return node;\n",
    "})();\n",
    "\n",
    "\n"
   ]
  },
  {
   "cell_type": "code",
   "execution_count": null,
   "metadata": {},
   "outputs": [],
   "source": [
    "%%javascript\n",
    "brownNoise.connect(window.audioContext.destination);\n",
    "setTimeout(function(){\n",
    "    brownNoise.disconnect();\n",
    "//    window.alert(\"done\");\n",
    "},6000);\n",
    "\n",
    "//setTimeout(function(){ alert(\"Hello\"); }, 3000);"
   ]
  },
  {
   "cell_type": "code",
   "execution_count": null,
   "metadata": {
    "collapsed": true
   },
   "outputs": [],
   "source": [
    "def generator():\n",
    "    return [1,2,3]"
   ]
  },
  {
   "cell_type": "code",
   "execution_count": null,
   "metadata": {},
   "outputs": [],
   "source": [
    "%%javascript\n",
    "\n",
    "var kernel = IPython.notebook.kernel;\n",
    "\n",
    "var callbacks = {\n",
    "        shell : {\n",
    "            reply: function(out) {\n",
    "                var res = out.content.user_expressions.output;\n",
    "                console.log(res);\n",
    "                var data = res.data[\"text/plain\"]; \n",
    "                console.log(data);\n",
    "                //output = out.content.user_expressions.output;\n",
    "                //res=output.data;\n",
    "                //console.log(res);\n",
    "            }\n",
    "        },\n",
    "        iopub : {\n",
    "             output : function() {\n",
    "                 console.log(\"more\");\n",
    "             }\n",
    "    }\n",
    "}\n",
    "\n",
    "function handle_output3(x){\n",
    "    console.log(\"zooi2\");\n",
    "    //window.alert(out_type+\" blaat \"+out_data);\n",
    "}\n",
    "kernel.execute(\"\", callbacks,{user_expressions:{output: \"generator()\"}});"
   ]
  },
  {
   "cell_type": "code",
   "execution_count": null,
   "metadata": {
    "collapsed": true
   },
   "outputs": [],
   "source": []
  },
  {
   "cell_type": "code",
   "execution_count": null,
   "metadata": {},
   "outputs": [],
   "source": [
    "%%javascript\n",
    "console.log(\"zooi\");\n"
   ]
  },
  {
   "cell_type": "code",
   "execution_count": 102,
   "metadata": {},
   "outputs": [
    {
     "data": {
      "application/javascript": [
       "\n",
       "if (!window.audioContext) {\n",
       "    window.audioContext = new AudioContext();\n",
       "}\n",
       "// Let us open a web socket\n",
       "var ws = new WebSocket(\"ws://127.0.0.1:8889\");\n",
       "ws.binaryType = 'arraybuffer';\n",
       "window.ws=ws;\n",
       "\n",
       "const REAL_TIME_FREQUENCY = 220;//440;\n",
       "const ANGULAR_FREQUENCY = REAL_TIME_FREQUENCY * 2 * Math.PI;\n",
       "\n",
       "var bufferSize = 4096;\n",
       "var player = (function() {\n",
       "    var sampleNumber = 0;\n",
       "    var node = window.audioContext.createScriptProcessor(bufferSize, 1, 1);\n",
       "    node.onaudioprocess = function(e) {\n",
       "        var output = e.outputBuffer.getChannelData(0);\n",
       "        if (ws.received_buffers.length>=1) {\n",
       "            output.set(ws.received_buffers.shift());\n",
       "        }\n",
       "        /**for (var i = 0; i < bufferSize; i++) {\n",
       "              output[i] = ws.last_received_buffer[i];  \n",
       "              let sampleTime = sampleNumber / 44100;\n",
       "              let sampleAngle = sampleTime * ANGULAR_FREQUENCY;\n",
       "              output[i] =  Math.sin(sampleAngle);\n",
       "              sampleNumber += 1;\n",
       "        }**/\n",
       "        // Web Socket is connected, send data using send()\n",
       "        if (ws.received_buffers.length<10) {\n",
       "            if (ws.readyState==1) {\n",
       "                ws.send(\"Get block\");\n",
       "                ws.send(\"Get block\");\n",
       "            }\n",
       "        }\n",
       "    }\n",
       "    return node;\n",
       "})();\n",
       "\n",
       "\n",
       "\t\t\t\t\n",
       "               ws.onopen = function()\n",
       "               {\n",
       "                  //console.log(\"Message is sent...\");\n",
       "                  ws.received_buffers = [] ;\n",
       "                  ws.received_frames = 0\n",
       "                  ws.send(\"Get block\");\n",
       "                  ws.is_connected = false;\n",
       "                                   \n",
       "               };\n",
       "\t\t\t\t\n",
       "               ws.onmessage = function (evt) \n",
       "               { \n",
       "                  ws.received_buffers.push(new Float32Array(evt.data)); //.set(evt.data);\n",
       "                  //ws.last_received_buffer.set(evt.data);\n",
       "                  ws.received_frames+=1;\n",
       "                  if (!ws.is_connected) {\n",
       "                      player.connect(window.audioContext.destination);  \n",
       "                      ws.is_connected = true;\n",
       "                  }\n",
       "                   //var received_msg = evt.data;\n",
       "                  //console.log(\"Message is received...\");\n",
       "                  //console.log(ws.last_received_buffer);\n",
       "                 \n",
       "                  /** \n",
       "                  var wordarray = new Float32Array(evt.data);\n",
       "                  for (var i = 0; i < 10; i++) //wordarray.length; i++) \n",
       "                  {\n",
       "                    console.log(wordarray[i]);\n",
       "                  }**/\n",
       "               };\n",
       "\t\t\t\t\n",
       "               ws.onclose = function()\n",
       "               { \n",
       "                  player.disconnect();\n",
       "\n",
       "                  // websocket is closed.\n",
       "                  console.log(\"Connection is closed...\"); \n",
       "               };\n",
       "            "
      ],
      "text/plain": [
       "<IPython.core.display.Javascript object>"
      ]
     },
     "metadata": {},
     "output_type": "display_data"
    },
    {
     "name": "stdout",
     "output_type": "stream",
     "text": [
      "Client connecting2: tcp:172.18.0.1:36908\n",
      "WebSocket connection open2.\n"
     ]
    }
   ],
   "source": [
    "%%javascript \n",
    "\n",
    "if (!window.audioContext) {\n",
    "    window.audioContext = new AudioContext();\n",
    "}\n",
    "// Let us open a web socket\n",
    "var ws = new WebSocket(\"ws://127.0.0.1:8889\");\n",
    "ws.binaryType = 'arraybuffer';\n",
    "window.ws=ws;\n",
    "\n",
    "const REAL_TIME_FREQUENCY = 220;//440;\n",
    "const ANGULAR_FREQUENCY = REAL_TIME_FREQUENCY * 2 * Math.PI;\n",
    "\n",
    "var bufferSize = 4096;\n",
    "var player = (function() {\n",
    "    var sampleNumber = 0;\n",
    "    var node = window.audioContext.createScriptProcessor(bufferSize, 1, 1);\n",
    "    node.onaudioprocess = function(e) {\n",
    "        var output = e.outputBuffer.getChannelData(0);\n",
    "        if (ws.received_buffers.length>=1) {\n",
    "            output.set(ws.received_buffers.shift());\n",
    "        }\n",
    "        /**for (var i = 0; i < bufferSize; i++) {\n",
    "              output[i] = ws.last_received_buffer[i];  \n",
    "              let sampleTime = sampleNumber / 44100;\n",
    "              let sampleAngle = sampleTime * ANGULAR_FREQUENCY;\n",
    "              output[i] =  Math.sin(sampleAngle);\n",
    "              sampleNumber += 1;\n",
    "        }**/\n",
    "        // Web Socket is connected, send data using send()\n",
    "        if (ws.received_buffers.length<10) {\n",
    "            if (ws.readyState==1) {\n",
    "                ws.send(\"Get block\");\n",
    "                ws.send(\"Get block\");\n",
    "            }\n",
    "        }\n",
    "    }\n",
    "    return node;\n",
    "})();\n",
    "\n",
    "\n",
    "\t\t\t\t\n",
    "               ws.onopen = function()\n",
    "               {\n",
    "                  //console.log(\"Message is sent...\");\n",
    "                  ws.received_buffers = [] ;\n",
    "                  ws.received_frames = 0\n",
    "                  ws.send(\"Get block\");\n",
    "                  ws.is_connected = false;\n",
    "                                   \n",
    "               };\n",
    "\t\t\t\t\n",
    "               ws.onmessage = function (evt) \n",
    "               { \n",
    "                  ws.received_buffers.push(new Float32Array(evt.data)); //.set(evt.data);\n",
    "                  //ws.last_received_buffer.set(evt.data);\n",
    "                  ws.received_frames+=1;\n",
    "                  if (!ws.is_connected) {\n",
    "                      player.connect(window.audioContext.destination);  \n",
    "                      ws.is_connected = true;\n",
    "                  }\n",
    "                   //var received_msg = evt.data;\n",
    "                  //console.log(\"Message is received...\");\n",
    "                  //console.log(ws.last_received_buffer);\n",
    "                 \n",
    "                  /** \n",
    "                  var wordarray = new Float32Array(evt.data);\n",
    "                  for (var i = 0; i < 10; i++) //wordarray.length; i++) \n",
    "                  {\n",
    "                    console.log(wordarray[i]);\n",
    "                  }**/\n",
    "               };\n",
    "\t\t\t\t\n",
    "               ws.onclose = function()\n",
    "               { \n",
    "                  player.disconnect();\n",
    "\n",
    "                  // websocket is closed.\n",
    "                  console.log(\"Connection is closed...\"); \n",
    "               };\n",
    "            "
   ]
  },
  {
   "cell_type": "code",
   "execution_count": 103,
   "metadata": {},
   "outputs": [
    {
     "data": {
      "application/javascript": [
       "console.log(window.ws.received_buffers.length)\n",
       "window.ws.close()"
      ],
      "text/plain": [
       "<IPython.core.display.Javascript object>"
      ]
     },
     "metadata": {},
     "output_type": "display_data"
    },
    {
     "name": "stdout",
     "output_type": "stream",
     "text": [
      "WebSocket connection closed: None\n"
     ]
    }
   ],
   "source": [
    "%%javascript \n",
    "console.log(window.ws.received_buffers.length)\n",
    "window.ws.close()"
   ]
  },
  {
   "cell_type": "code",
   "execution_count": null,
   "metadata": {
    "collapsed": true
   },
   "outputs": [],
   "source": []
  }
 ],
 "metadata": {
  "kernelspec": {
   "display_name": "Python 3",
   "language": "python",
   "name": "python3"
  },
  "language_info": {
   "codemirror_mode": {
    "name": "ipython",
    "version": 3
   },
   "file_extension": ".py",
   "mimetype": "text/x-python",
   "name": "python",
   "nbconvert_exporter": "python",
   "pygments_lexer": "ipython3",
   "version": "3.6.2"
  },
  "widgets": {
   "state": {
    "30f8c728443e434a9ad9fd4a705a4b47": {
     "views": [
      {
       "cell_index": 2
      }
     ]
    }
   },
   "version": "1.2.0"
  }
 },
 "nbformat": 4,
 "nbformat_minor": 2
}
